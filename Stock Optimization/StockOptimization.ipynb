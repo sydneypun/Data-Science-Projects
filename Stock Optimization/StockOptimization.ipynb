{
  "nbformat": 4,
  "nbformat_minor": 0,
  "metadata": {
    "colab": {
      "name": "StockOptimization.ipynb",
      "provenance": [],
      "collapsed_sections": []
    },
    "kernelspec": {
      "name": "python3",
      "display_name": "Python 3"
    }
  },
  "cells": [
    {
      "cell_type": "code",
      "metadata": {
        "id": "qv6OuzqSIoQc"
      },
      "source": [
        "# This program attempts to optimize a user's Stock Portfolio (FAANG) with the Efficient Frontier.\n",
        "## CITATION: https://www.youtube.com/watch?v=9fjs8FeLMJk&t=190s"
      ],
      "execution_count": 85,
      "outputs": []
    },
    {
      "cell_type": "code",
      "metadata": {
        "id": "VJ2uUfunI4dh"
      },
      "source": [
        "# DEPENDENCIES\n",
        "from pandas_datareader import data as web\n",
        "import pandas as pd\n",
        "import numpy as np\n",
        "from datetime import datetime\n",
        "import matplotlib.pyplot as plt\n",
        "plt.style.use('fivethirtyeight')"
      ],
      "execution_count": 86,
      "outputs": []
    },
    {
      "cell_type": "code",
      "metadata": {
        "id": "zicwGdlHPrAT"
      },
      "source": [
        "# Get the stock symbols / tickers in the portfolio \n",
        "# FAANG \n",
        "assets = ['FB', 'AMZN', 'AAPL', 'NFLX', 'GOOG'] "
      ],
      "execution_count": 87,
      "outputs": []
    },
    {
      "cell_type": "code",
      "metadata": {
        "id": "u313tg0ARwZs"
      },
      "source": [
        "# Assign weights to our stocks\n",
        "weights = np.array ([0.2, 0.2, 0.2, 0.2, 0.2])"
      ],
      "execution_count": 88,
      "outputs": []
    },
    {
      "cell_type": "code",
      "metadata": {
        "id": "9w_EJXt1SFCf"
      },
      "source": [
        "# Get the stock/portfolio starting date\n",
        "stock_start_date = '2015-01-01'"
      ],
      "execution_count": 89,
      "outputs": []
    },
    {
      "cell_type": "code",
      "metadata": {
        "id": "yOi3U_VmSMXh",
        "outputId": "e960a315-e5a8-4367-c7da-95b688216389",
        "colab": {
          "base_uri": "https://localhost:8080/",
          "height": 35
        }
      },
      "source": [
        "# Get the stock/portfolio ending date\n",
        "today = datetime.today().strftime('%Y-%m-%d')\n",
        "today "
      ],
      "execution_count": 90,
      "outputs": [
        {
          "output_type": "execute_result",
          "data": {
            "application/vnd.google.colaboratory.intrinsic+json": {
              "type": "string"
            },
            "text/plain": [
              "'2020-09-30'"
            ]
          },
          "metadata": {
            "tags": []
          },
          "execution_count": 90
        }
      ]
    },
    {
      "cell_type": "code",
      "metadata": {
        "id": "8hXGqixASXKI"
      },
      "source": [
        "# Create a dataframe to store the adjusted close price of the stocks\n",
        "df = pd.DataFrame()"
      ],
      "execution_count": 91,
      "outputs": []
    },
    {
      "cell_type": "code",
      "metadata": {
        "id": "PtOKVLazS-5S"
      },
      "source": [
        "# Store the adjusted close price of the stock into the dataframe\n",
        "for stock in assets: \n",
        "  df[stock] = web.DataReader(stock, data_source='yahoo', start=stock_start_date, end=today)['Adj Close']"
      ],
      "execution_count": 92,
      "outputs": []
    },
    {
      "cell_type": "code",
      "metadata": {
        "id": "ssJgd-e0TXXf",
        "outputId": "a5d28efd-c90d-4f2f-df57-d1e1eabeec17",
        "colab": {
          "base_uri": "https://localhost:8080/",
          "height": 204
        }
      },
      "source": [
        "# Show the dataframe\n",
        "df.head()"
      ],
      "execution_count": 93,
      "outputs": [
        {
          "output_type": "execute_result",
          "data": {
            "text/html": [
              "<div>\n",
              "<style scoped>\n",
              "    .dataframe tbody tr th:only-of-type {\n",
              "        vertical-align: middle;\n",
              "    }\n",
              "\n",
              "    .dataframe tbody tr th {\n",
              "        vertical-align: top;\n",
              "    }\n",
              "\n",
              "    .dataframe thead th {\n",
              "        text-align: right;\n",
              "    }\n",
              "</style>\n",
              "<table border=\"1\" class=\"dataframe\">\n",
              "  <thead>\n",
              "    <tr style=\"text-align: right;\">\n",
              "      <th></th>\n",
              "      <th>FB</th>\n",
              "      <th>AMZN</th>\n",
              "      <th>AAPL</th>\n",
              "      <th>NFLX</th>\n",
              "      <th>GOOG</th>\n",
              "    </tr>\n",
              "  </thead>\n",
              "  <tbody>\n",
              "    <tr>\n",
              "      <th>2015-01-02</th>\n",
              "      <td>78.449997</td>\n",
              "      <td>308.519989</td>\n",
              "      <td>24.941502</td>\n",
              "      <td>49.848572</td>\n",
              "      <td>523.373108</td>\n",
              "    </tr>\n",
              "    <tr>\n",
              "      <th>2015-01-05</th>\n",
              "      <td>77.190002</td>\n",
              "      <td>302.190002</td>\n",
              "      <td>24.238857</td>\n",
              "      <td>47.311428</td>\n",
              "      <td>512.463013</td>\n",
              "    </tr>\n",
              "    <tr>\n",
              "      <th>2015-01-06</th>\n",
              "      <td>76.150002</td>\n",
              "      <td>295.290009</td>\n",
              "      <td>24.241146</td>\n",
              "      <td>46.501427</td>\n",
              "      <td>500.585632</td>\n",
              "    </tr>\n",
              "    <tr>\n",
              "      <th>2015-01-07</th>\n",
              "      <td>76.150002</td>\n",
              "      <td>298.420013</td>\n",
              "      <td>24.581060</td>\n",
              "      <td>46.742859</td>\n",
              "      <td>499.727997</td>\n",
              "    </tr>\n",
              "    <tr>\n",
              "      <th>2015-01-08</th>\n",
              "      <td>78.180000</td>\n",
              "      <td>300.459991</td>\n",
              "      <td>25.525522</td>\n",
              "      <td>47.779999</td>\n",
              "      <td>501.303680</td>\n",
              "    </tr>\n",
              "  </tbody>\n",
              "</table>\n",
              "</div>"
            ],
            "text/plain": [
              "                   FB        AMZN       AAPL       NFLX        GOOG\n",
              "2015-01-02  78.449997  308.519989  24.941502  49.848572  523.373108\n",
              "2015-01-05  77.190002  302.190002  24.238857  47.311428  512.463013\n",
              "2015-01-06  76.150002  295.290009  24.241146  46.501427  500.585632\n",
              "2015-01-07  76.150002  298.420013  24.581060  46.742859  499.727997\n",
              "2015-01-08  78.180000  300.459991  25.525522  47.779999  501.303680"
            ]
          },
          "metadata": {
            "tags": []
          },
          "execution_count": 93
        }
      ]
    },
    {
      "cell_type": "code",
      "metadata": {
        "id": "1E-CZcOkTi7X",
        "outputId": "f9e2e76c-1e1b-4212-cad6-7c3dc5cccc91",
        "colab": {
          "base_uri": "https://localhost:8080/",
          "height": 325
        }
      },
      "source": [
        "# Show the stock / portfolio\n",
        "title = 'Portfolio Adjusted Close Price History'\n",
        "\n",
        "# Grab the stocks\n",
        "my_stocks = df\n",
        "\n",
        "# Create and plot the graph\n",
        "for c in my_stocks.columns.values:\n",
        "  plt.plot(my_stocks[c], label=c)\n",
        "\n",
        "plt.title(title)\n",
        "plt.xlabel('Date', fontsize=18)\n",
        "plt.ylabel('Adj. Price USD ($)', fontsize = 18)\n",
        "plt.legend(my_stocks.columns.values, loc='upper left')\n",
        "plt.show()"
      ],
      "execution_count": 94,
      "outputs": [
        {
          "output_type": "display_data",
          "data": {
            "image/png": "[encoded data removed]",
            "text/plain": [
              "<Figure size 432x288 with 1 Axes>"
            ]
          },
          "metadata": {
            "tags": []
          }
        }
      ]
    },
    {
      "cell_type": "markdown",
      "metadata": {
        "id": "hTC5sT_cU7qV"
      },
      "source": [
        "As indicated by the graph above, the most expensive stock is **Amazon** and the least expensive stock is **Apple**. This is subject to change depending on how the stock market reacts to changes in the economy."
      ]
    },
    {
      "cell_type": "code",
      "metadata": {
        "id": "dm1JDV8NVbpy",
        "outputId": "6751f4c9-892a-4e9d-dde4-92e1c6b7cd37",
        "colab": {
          "base_uri": "https://localhost:8080/",
          "height": 204
        }
      },
      "source": [
        "# Show the daily simple returns\n",
        "returns = df.pct_change() \n",
        "returns.head()"
      ],
      "execution_count": 95,
      "outputs": [
        {
          "output_type": "execute_result",
          "data": {
            "text/html": [
              "<div>\n",
              "<style scoped>\n",
              "    .dataframe tbody tr th:only-of-type {\n",
              "        vertical-align: middle;\n",
              "    }\n",
              "\n",
              "    .dataframe tbody tr th {\n",
              "        vertical-align: top;\n",
              "    }\n",
              "\n",
              "    .dataframe thead th {\n",
              "        text-align: right;\n",
              "    }\n",
              "</style>\n",
              "<table border=\"1\" class=\"dataframe\">\n",
              "  <thead>\n",
              "    <tr style=\"text-align: right;\">\n",
              "      <th></th>\n",
              "      <th>FB</th>\n",
              "      <th>AMZN</th>\n",
              "      <th>AAPL</th>\n",
              "      <th>NFLX</th>\n",
              "      <th>GOOG</th>\n",
              "    </tr>\n",
              "  </thead>\n",
              "  <tbody>\n",
              "    <tr>\n",
              "      <th>2015-01-02</th>\n",
              "      <td>NaN</td>\n",
              "      <td>NaN</td>\n",
              "      <td>NaN</td>\n",
              "      <td>NaN</td>\n",
              "      <td>NaN</td>\n",
              "    </tr>\n",
              "    <tr>\n",
              "      <th>2015-01-05</th>\n",
              "      <td>-0.016061</td>\n",
              "      <td>-0.020517</td>\n",
              "      <td>-0.028172</td>\n",
              "      <td>-0.050897</td>\n",
              "      <td>-0.020846</td>\n",
              "    </tr>\n",
              "    <tr>\n",
              "      <th>2015-01-06</th>\n",
              "      <td>-0.013473</td>\n",
              "      <td>-0.022833</td>\n",
              "      <td>0.000094</td>\n",
              "      <td>-0.017121</td>\n",
              "      <td>-0.023177</td>\n",
              "    </tr>\n",
              "    <tr>\n",
              "      <th>2015-01-07</th>\n",
              "      <td>0.000000</td>\n",
              "      <td>0.010600</td>\n",
              "      <td>0.014022</td>\n",
              "      <td>0.005192</td>\n",
              "      <td>-0.001713</td>\n",
              "    </tr>\n",
              "    <tr>\n",
              "      <th>2015-01-08</th>\n",
              "      <td>0.026658</td>\n",
              "      <td>0.006836</td>\n",
              "      <td>0.038422</td>\n",
              "      <td>0.022188</td>\n",
              "      <td>0.003153</td>\n",
              "    </tr>\n",
              "  </tbody>\n",
              "</table>\n",
              "</div>"
            ],
            "text/plain": [
              "                  FB      AMZN      AAPL      NFLX      GOOG\n",
              "2015-01-02       NaN       NaN       NaN       NaN       NaN\n",
              "2015-01-05 -0.016061 -0.020517 -0.028172 -0.050897 -0.020846\n",
              "2015-01-06 -0.013473 -0.022833  0.000094 -0.017121 -0.023177\n",
              "2015-01-07  0.000000  0.010600  0.014022  0.005192 -0.001713\n",
              "2015-01-08  0.026658  0.006836  0.038422  0.022188  0.003153"
            ]
          },
          "metadata": {
            "tags": []
          },
          "execution_count": 95
        }
      ]
    },
    {
      "cell_type": "code",
      "metadata": {
        "id": "JigWWaBKVvnX",
        "outputId": "27376ed5-e792-40ae-cae5-85ac4f0e6c13",
        "colab": {
          "base_uri": "https://localhost:8080/",
          "height": 204
        }
      },
      "source": [
        "# Create and show the annualized covariance matrix\n",
        "cov_matrix_annual = returns.cov() * 252\n",
        "cov_matrix_annual.head()"
      ],
      "execution_count": 96,
      "outputs": [
        {
          "output_type": "execute_result",
          "data": {
            "text/html": [
              "<div>\n",
              "<style scoped>\n",
              "    .dataframe tbody tr th:only-of-type {\n",
              "        vertical-align: middle;\n",
              "    }\n",
              "\n",
              "    .dataframe tbody tr th {\n",
              "        vertical-align: top;\n",
              "    }\n",
              "\n",
              "    .dataframe thead th {\n",
              "        text-align: right;\n",
              "    }\n",
              "</style>\n",
              "<table border=\"1\" class=\"dataframe\">\n",
              "  <thead>\n",
              "    <tr style=\"text-align: right;\">\n",
              "      <th></th>\n",
              "      <th>FB</th>\n",
              "      <th>AMZN</th>\n",
              "      <th>AAPL</th>\n",
              "      <th>NFLX</th>\n",
              "      <th>GOOG</th>\n",
              "    </tr>\n",
              "  </thead>\n",
              "  <tbody>\n",
              "    <tr>\n",
              "      <th>FB</th>\n",
              "      <td>0.099695</td>\n",
              "      <td>0.057650</td>\n",
              "      <td>0.052784</td>\n",
              "      <td>0.059820</td>\n",
              "      <td>0.056784</td>\n",
              "    </tr>\n",
              "    <tr>\n",
              "      <th>AMZN</th>\n",
              "      <td>0.057650</td>\n",
              "      <td>0.095440</td>\n",
              "      <td>0.049259</td>\n",
              "      <td>0.068539</td>\n",
              "      <td>0.054572</td>\n",
              "    </tr>\n",
              "    <tr>\n",
              "      <th>AAPL</th>\n",
              "      <td>0.052784</td>\n",
              "      <td>0.049259</td>\n",
              "      <td>0.086541</td>\n",
              "      <td>0.051252</td>\n",
              "      <td>0.048394</td>\n",
              "    </tr>\n",
              "    <tr>\n",
              "      <th>NFLX</th>\n",
              "      <td>0.059820</td>\n",
              "      <td>0.068539</td>\n",
              "      <td>0.051252</td>\n",
              "      <td>0.181125</td>\n",
              "      <td>0.056422</td>\n",
              "    </tr>\n",
              "    <tr>\n",
              "      <th>GOOG</th>\n",
              "      <td>0.056784</td>\n",
              "      <td>0.054572</td>\n",
              "      <td>0.048394</td>\n",
              "      <td>0.056422</td>\n",
              "      <td>0.072359</td>\n",
              "    </tr>\n",
              "  </tbody>\n",
              "</table>\n",
              "</div>"
            ],
            "text/plain": [
              "            FB      AMZN      AAPL      NFLX      GOOG\n",
              "FB    0.099695  0.057650  0.052784  0.059820  0.056784\n",
              "AMZN  0.057650  0.095440  0.049259  0.068539  0.054572\n",
              "AAPL  0.052784  0.049259  0.086541  0.051252  0.048394\n",
              "NFLX  0.059820  0.068539  0.051252  0.181125  0.056422\n",
              "GOOG  0.056784  0.054572  0.048394  0.056422  0.072359"
            ]
          },
          "metadata": {
            "tags": []
          },
          "execution_count": 96
        }
      ]
    },
    {
      "cell_type": "code",
      "metadata": {
        "id": "O9PzLZyBWJJp",
        "outputId": "52fcb594-da2f-414e-e3b0-503c7764999d",
        "colab": {
          "base_uri": "https://localhost:8080/",
          "height": 34
        }
      },
      "source": [
        "# Calculate the portfolio variance \n",
        "port_variance = np.dot(weights.T, np.dot(cov_matrix_annual, weights))\n",
        "port_variance"
      ],
      "execution_count": 97,
      "outputs": [
        {
          "output_type": "execute_result",
          "data": {
            "text/plain": [
              "0.0658444648199738"
            ]
          },
          "metadata": {
            "tags": []
          },
          "execution_count": 97
        }
      ]
    },
    {
      "cell_type": "code",
      "metadata": {
        "id": "5nAeB8jxWoFJ",
        "outputId": "38effd8b-82ad-4ecc-c7e1-ce00d86598ed",
        "colab": {
          "base_uri": "https://localhost:8080/",
          "height": 34
        }
      },
      "source": [
        "# Calculate the portfolio volatility which is the standard deviation\n",
        "port_volatility = np.sqrt(port_variance)\n",
        "port_volatility"
      ],
      "execution_count": 98,
      "outputs": [
        {
          "output_type": "execute_result",
          "data": {
            "text/plain": [
              "0.2566017630882021"
            ]
          },
          "metadata": {
            "tags": []
          },
          "execution_count": 98
        }
      ]
    },
    {
      "cell_type": "code",
      "metadata": {
        "id": "uxMkRboSXQAL",
        "outputId": "116a38de-0ce9-40db-8d9c-d95edaadb5a0",
        "colab": {
          "base_uri": "https://localhost:8080/",
          "height": 34
        }
      },
      "source": [
        "# Calculate the annual portfolio return\n",
        "portfolio_simple_annual_return = np.sum(returns.mean() * weights) * 252\n",
        "portfolio_simple_annual_return"
      ],
      "execution_count": 99,
      "outputs": [
        {
          "output_type": "execute_result",
          "data": {
            "text/plain": [
              "0.3454122304290867"
            ]
          },
          "metadata": {
            "tags": []
          },
          "execution_count": 99
        }
      ]
    },
    {
      "cell_type": "code",
      "metadata": {
        "id": "Xa935J7aXo9A",
        "outputId": "ab510e7a-9e6c-43af-8a00-9b1197fdc9a0",
        "colab": {
          "base_uri": "https://localhost:8080/",
          "height": 68
        }
      },
      "source": [
        "# Show the expected annual return, volatility (risk), and variance\n",
        "var_percent = str(round(port_variance, 2) * 100) + '%'\n",
        "vols_percent = str(round(port_volatility, 2) * 100) + '%'\n",
        "rets_percent = str(round(portfolio_simple_annual_return, 2) * 100) + '%'\n",
        "\n",
        "print('Expected annual return: ' + rets_percent)\n",
        "print(\"Annual volatility: \" + vols_percent)\n",
        "print(\"Annual variance: \" + var_percent)\n"
      ],
      "execution_count": 100,
      "outputs": [
        {
          "output_type": "stream",
          "text": [
            "Expected annual return: 35.0%\n",
            "Annual volatility: 26.0%\n",
            "Annual variance: 7.000000000000001%\n"
          ],
          "name": "stdout"
        }
      ]
    },
    {
      "cell_type": "markdown",
      "metadata": {
        "id": "VFvgCxrOYpTu"
      },
      "source": [
        "A 35% annual return for 26% volatility for risk is what we currently have. From these results, we want to have a higher rate of return for a lower risk. "
      ]
    },
    {
      "cell_type": "code",
      "metadata": {
        "id": "CKZ4MDvjYiNg",
        "outputId": "63fadd09-d165-4650-ca4d-3433597932b7",
        "colab": {
          "base_uri": "https://localhost:8080/",
          "height": 272
        }
      },
      "source": [
        "pip install PyPortfolioOpt"
      ],
      "execution_count": 101,
      "outputs": [
        {
          "output_type": "stream",
          "text": [
            "Requirement already satisfied: PyPortfolioOpt in /usr/local/lib/python3.6/dist-packages (1.2.6)\n",
            "Requirement already satisfied: numpy<2.0,>=1.12 in /usr/local/lib/python3.6/dist-packages (from PyPortfolioOpt) (1.18.5)\n",
            "Requirement already satisfied: scipy<2.0,>=1.3 in /usr/local/lib/python3.6/dist-packages (from PyPortfolioOpt) (1.4.1)\n",
            "Requirement already satisfied: cvxpy<2.0,>=1.0 in /usr/local/lib/python3.6/dist-packages (from PyPortfolioOpt) (1.0.31)\n",
            "Requirement already satisfied: cvxopt<2.0,>=1.2 in /usr/local/lib/python3.6/dist-packages (from PyPortfolioOpt) (1.2.5)\n",
            "Requirement already satisfied: pandas>=0.19 in /usr/local/lib/python3.6/dist-packages (from PyPortfolioOpt) (1.1.2)\n",
            "Requirement already satisfied: osqp>=0.4.1 in /usr/local/lib/python3.6/dist-packages (from cvxpy<2.0,>=1.0->PyPortfolioOpt) (0.6.1)\n",
            "Requirement already satisfied: ecos>=2 in /usr/local/lib/python3.6/dist-packages (from cvxpy<2.0,>=1.0->PyPortfolioOpt) (2.0.7.post1)\n",
            "Requirement already satisfied: multiprocess in /usr/local/lib/python3.6/dist-packages (from cvxpy<2.0,>=1.0->PyPortfolioOpt) (0.70.10)\n",
            "Requirement already satisfied: scs>=1.1.3 in /usr/local/lib/python3.6/dist-packages (from cvxpy<2.0,>=1.0->PyPortfolioOpt) (2.1.2)\n",
            "Requirement already satisfied: python-dateutil>=2.7.3 in /usr/local/lib/python3.6/dist-packages (from pandas>=0.19->PyPortfolioOpt) (2.8.1)\n",
            "Requirement already satisfied: pytz>=2017.2 in /usr/local/lib/python3.6/dist-packages (from pandas>=0.19->PyPortfolioOpt) (2018.9)\n",
            "Requirement already satisfied: future in /usr/local/lib/python3.6/dist-packages (from osqp>=0.4.1->cvxpy<2.0,>=1.0->PyPortfolioOpt) (0.16.0)\n",
            "Requirement already satisfied: dill>=0.3.2 in /usr/local/lib/python3.6/dist-packages (from multiprocess->cvxpy<2.0,>=1.0->PyPortfolioOpt) (0.3.2)\n",
            "Requirement already satisfied: six>=1.5 in /usr/local/lib/python3.6/dist-packages (from python-dateutil>=2.7.3->pandas>=0.19->PyPortfolioOpt) (1.15.0)\n"
          ],
          "name": "stdout"
        }
      ]
    },
    {
      "cell_type": "code",
      "metadata": {
        "id": "1n1X9PtpY-sd"
      },
      "source": [
        "from pypfopt.efficient_frontier import EfficientFrontier\n",
        "from pypfopt import risk_models\n",
        "from pypfopt import expected_returns"
      ],
      "execution_count": 102,
      "outputs": []
    },
    {
      "cell_type": "code",
      "metadata": {
        "id": "R8Luju3saAFQ",
        "outputId": "0be3333a-ff41-45f9-996e-d5c21731c2ee",
        "colab": {
          "base_uri": "https://localhost:8080/",
          "height": 102
        }
      },
      "source": [
        "# Calculate the expected returns and the annualized sample covariance matrix\n",
        "mu = expected_returns.mean_historical_return(df)\n",
        "s = risk_models.sample_cov(df)\n",
        "\n",
        "# Optimize for max sharpe ratio\n",
        "ef = EfficientFrontier(mu, s)\n",
        "weights = ef.max_sharpe()\n",
        "cleaned_weights = ef.clean_weights()\n",
        "print(cleaned_weights)\n",
        "ef.portfolio_performance(verbose=True)"
      ],
      "execution_count": 103,
      "outputs": [
        {
          "output_type": "stream",
          "text": [
            "OrderedDict([('FB', 0.0), ('AMZN', 0.7656), ('AAPL', 0.06505), ('NFLX', 0.16936), ('GOOG', 0.0)])\n",
            "Expected annual return: 48.5%\n",
            "Annual volatility: 29.2%\n",
            "Sharpe Ratio: 1.59\n"
          ],
          "name": "stdout"
        },
        {
          "output_type": "execute_result",
          "data": {
            "text/plain": [
              "(0.48514252600109864, 0.2920806475624832, 1.5925140192713154)"
            ]
          },
          "metadata": {
            "tags": []
          },
          "execution_count": 103
        }
      ]
    },
    {
      "cell_type": "markdown",
      "metadata": {
        "id": "FFV0nyiIbYf5"
      },
      "source": [
        "Our expected annual return went up from 35% to 48.5% so this is a more optimal portfolio. "
      ]
    },
    {
      "cell_type": "code",
      "metadata": {
        "id": "dLNFKzKlbgb2",
        "outputId": "fd9278fd-49b7-4143-bcfb-389aa111990d",
        "colab": {
          "base_uri": "https://localhost:8080/",
          "height": 34
        }
      },
      "source": [
        "0.7656 + 0.06505 + 0.16936"
      ],
      "execution_count": 104,
      "outputs": [
        {
          "output_type": "execute_result",
          "data": {
            "text/plain": [
              "1.0000099999999998"
            ]
          },
          "metadata": {
            "tags": []
          },
          "execution_count": 104
        }
      ]
    },
    {
      "cell_type": "code",
      "metadata": {
        "id": "N4G9Mes2buNR",
        "outputId": "63403515-1094-4f9c-92a4-2903d4c85bd3",
        "colab": {
          "base_uri": "https://localhost:8080/",
          "height": 51
        }
      },
      "source": [
        "# Get the discrete allocation of each share\n",
        "from pypfopt.discrete_allocation import DiscreteAllocation, get_latest_prices\n",
        "\n",
        "latest_prices=get_latest_prices(df)\n",
        "weights=cleaned_weights\n",
        "da=DiscreteAllocation(weights, latest_prices, total_portfolio_value=1000)\n",
        "\n",
        "allocation, leftover = da.lp_portfolio()\n",
        "print('Discrete allocation: ', allocation)\n",
        "print('Funds remaining: ${:.2f}'.format(leftover))"
      ],
      "execution_count": 105,
      "outputs": [
        {
          "output_type": "stream",
          "text": [
            "Discrete allocation:  {'AAPL': 1, 'NFLX': 1}\n",
            "Funds remaining: $392.43\n"
          ],
          "name": "stdout"
        }
      ]
    },
    {
      "cell_type": "markdown",
      "metadata": {
        "id": "VYwV0uvPdr2D"
      },
      "source": [
        "With this program, we can see that the most efficient way to utilize 1,000 dollars for purchasing stocks, is to purchase **1 share of Apple** and **1 share of Netflix**. Your remaining funds will then be **$392.43**. "
      ]
    }
  ]
}