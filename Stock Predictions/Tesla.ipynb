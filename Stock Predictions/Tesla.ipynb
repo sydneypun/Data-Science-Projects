{
  "nbformat": 4,
  "nbformat_minor": 0,
  "metadata": {
    "colab": {
      "name": "Tesla.ipynb",
      "provenance": [],
      "collapsed_sections": []
    },
    "kernelspec": {
      "name": "python3",
      "display_name": "Python 3"
    }
  },
  "cells": [
    {
      "cell_type": "code",
      "metadata": {
        "id": "MIpGdHKHgDpV",
        "colab_type": "code",
        "colab": {
          "base_uri": "https://localhost:8080/",
          "height": 238
        },
        "outputId": "a57b4e1f-4a9a-4653-9a5a-6f25f081111f"
      },
      "source": [
        "pip install quandl"
      ],
      "execution_count": 44,
      "outputs": [
        {
          "output_type": "stream",
          "text": [
            "Requirement already satisfied: quandl in /usr/local/lib/python3.6/dist-packages (3.5.2)\n",
            "Requirement already satisfied: more-itertools in /usr/local/lib/python3.6/dist-packages (from quandl) (8.5.0)\n",
            "Requirement already satisfied: inflection>=0.3.1 in /usr/local/lib/python3.6/dist-packages (from quandl) (0.5.1)\n",
            "Requirement already satisfied: six in /usr/local/lib/python3.6/dist-packages (from quandl) (1.15.0)\n",
            "Requirement already satisfied: numpy>=1.8 in /usr/local/lib/python3.6/dist-packages (from quandl) (1.18.5)\n",
            "Requirement already satisfied: python-dateutil in /usr/local/lib/python3.6/dist-packages (from quandl) (2.8.1)\n",
            "Requirement already satisfied: requests>=2.7.0 in /usr/local/lib/python3.6/dist-packages (from quandl) (2.23.0)\n",
            "Requirement already satisfied: pandas>=0.14 in /usr/local/lib/python3.6/dist-packages (from quandl) (1.0.5)\n",
            "Requirement already satisfied: certifi>=2017.4.17 in /usr/local/lib/python3.6/dist-packages (from requests>=2.7.0->quandl) (2020.6.20)\n",
            "Requirement already satisfied: urllib3!=1.25.0,!=1.25.1,<1.26,>=1.21.1 in /usr/local/lib/python3.6/dist-packages (from requests>=2.7.0->quandl) (1.24.3)\n",
            "Requirement already satisfied: chardet<4,>=3.0.2 in /usr/local/lib/python3.6/dist-packages (from requests>=2.7.0->quandl) (3.0.4)\n",
            "Requirement already satisfied: idna<3,>=2.5 in /usr/local/lib/python3.6/dist-packages (from requests>=2.7.0->quandl) (2.10)\n",
            "Requirement already satisfied: pytz>=2017.2 in /usr/local/lib/python3.6/dist-packages (from pandas>=0.14->quandl) (2018.9)\n"
          ],
          "name": "stdout"
        }
      ]
    },
    {
      "cell_type": "markdown",
      "metadata": {
        "id": "HuQ8hMbwhav9",
        "colab_type": "text"
      },
      "source": [
        "This program predicts the stock prices for Tesla Motors by using machine learning models. "
      ]
    },
    {
      "cell_type": "code",
      "metadata": {
        "id": "kfLD0dMtgWsS",
        "colab_type": "code",
        "colab": {}
      },
      "source": [
        "# DEPENDENCIES\n",
        "import quandl\n",
        "import numpy as np\n",
        "from sklearn.linear_model import LinearRegression\n",
        "from sklearn.svm import SVR\n",
        "from sklearn.model_selection import train_test_split"
      ],
      "execution_count": 45,
      "outputs": []
    },
    {
      "cell_type": "code",
      "metadata": {
        "id": "lQoTpDlwg5gC",
        "colab_type": "code",
        "colab": {
          "base_uri": "https://localhost:8080/",
          "height": 235
        },
        "outputId": "19766e4c-5732-4666-ac61-d6f17bfb9858"
      },
      "source": [
        "# Get the stock data\n",
        "df = quandl.get(\"WIKI/TSLA\")\n",
        "# Print head of the dataframe\n",
        "df.head()"
      ],
      "execution_count": 46,
      "outputs": [
        {
          "output_type": "execute_result",
          "data": {
            "text/html": [
              "<div>\n",
              "<style scoped>\n",
              "    .dataframe tbody tr th:only-of-type {\n",
              "        vertical-align: middle;\n",
              "    }\n",
              "\n",
              "    .dataframe tbody tr th {\n",
              "        vertical-align: top;\n",
              "    }\n",
              "\n",
              "    .dataframe thead th {\n",
              "        text-align: right;\n",
              "    }\n",
              "</style>\n",
              "<table border=\"1\" class=\"dataframe\">\n",
              "  <thead>\n",
              "    <tr style=\"text-align: right;\">\n",
              "      <th></th>\n",
              "      <th>Open</th>\n",
              "      <th>High</th>\n",
              "      <th>Low</th>\n",
              "      <th>Close</th>\n",
              "      <th>Volume</th>\n",
              "      <th>Ex-Dividend</th>\n",
              "      <th>Split Ratio</th>\n",
              "      <th>Adj. Open</th>\n",
              "      <th>Adj. High</th>\n",
              "      <th>Adj. Low</th>\n",
              "      <th>Adj. Close</th>\n",
              "      <th>Adj. Volume</th>\n",
              "    </tr>\n",
              "    <tr>\n",
              "      <th>Date</th>\n",
              "      <th></th>\n",
              "      <th></th>\n",
              "      <th></th>\n",
              "      <th></th>\n",
              "      <th></th>\n",
              "      <th></th>\n",
              "      <th></th>\n",
              "      <th></th>\n",
              "      <th></th>\n",
              "      <th></th>\n",
              "      <th></th>\n",
              "      <th></th>\n",
              "    </tr>\n",
              "  </thead>\n",
              "  <tbody>\n",
              "    <tr>\n",
              "      <th>2010-06-29</th>\n",
              "      <td>19.00</td>\n",
              "      <td>25.0000</td>\n",
              "      <td>17.54</td>\n",
              "      <td>23.89</td>\n",
              "      <td>18766300.0</td>\n",
              "      <td>0.0</td>\n",
              "      <td>1.0</td>\n",
              "      <td>19.00</td>\n",
              "      <td>25.0000</td>\n",
              "      <td>17.54</td>\n",
              "      <td>23.89</td>\n",
              "      <td>18766300.0</td>\n",
              "    </tr>\n",
              "    <tr>\n",
              "      <th>2010-06-30</th>\n",
              "      <td>25.79</td>\n",
              "      <td>30.4192</td>\n",
              "      <td>23.30</td>\n",
              "      <td>23.83</td>\n",
              "      <td>17187100.0</td>\n",
              "      <td>0.0</td>\n",
              "      <td>1.0</td>\n",
              "      <td>25.79</td>\n",
              "      <td>30.4192</td>\n",
              "      <td>23.30</td>\n",
              "      <td>23.83</td>\n",
              "      <td>17187100.0</td>\n",
              "    </tr>\n",
              "    <tr>\n",
              "      <th>2010-07-01</th>\n",
              "      <td>25.00</td>\n",
              "      <td>25.9200</td>\n",
              "      <td>20.27</td>\n",
              "      <td>21.96</td>\n",
              "      <td>8218800.0</td>\n",
              "      <td>0.0</td>\n",
              "      <td>1.0</td>\n",
              "      <td>25.00</td>\n",
              "      <td>25.9200</td>\n",
              "      <td>20.27</td>\n",
              "      <td>21.96</td>\n",
              "      <td>8218800.0</td>\n",
              "    </tr>\n",
              "    <tr>\n",
              "      <th>2010-07-02</th>\n",
              "      <td>23.00</td>\n",
              "      <td>23.1000</td>\n",
              "      <td>18.71</td>\n",
              "      <td>19.20</td>\n",
              "      <td>5139800.0</td>\n",
              "      <td>0.0</td>\n",
              "      <td>1.0</td>\n",
              "      <td>23.00</td>\n",
              "      <td>23.1000</td>\n",
              "      <td>18.71</td>\n",
              "      <td>19.20</td>\n",
              "      <td>5139800.0</td>\n",
              "    </tr>\n",
              "    <tr>\n",
              "      <th>2010-07-06</th>\n",
              "      <td>20.00</td>\n",
              "      <td>20.0000</td>\n",
              "      <td>15.83</td>\n",
              "      <td>16.11</td>\n",
              "      <td>6866900.0</td>\n",
              "      <td>0.0</td>\n",
              "      <td>1.0</td>\n",
              "      <td>20.00</td>\n",
              "      <td>20.0000</td>\n",
              "      <td>15.83</td>\n",
              "      <td>16.11</td>\n",
              "      <td>6866900.0</td>\n",
              "    </tr>\n",
              "  </tbody>\n",
              "</table>\n",
              "</div>"
            ],
            "text/plain": [
              "             Open     High    Low  ...  Adj. Low  Adj. Close  Adj. Volume\n",
              "Date                               ...                                   \n",
              "2010-06-29  19.00  25.0000  17.54  ...     17.54       23.89   18766300.0\n",
              "2010-06-30  25.79  30.4192  23.30  ...     23.30       23.83   17187100.0\n",
              "2010-07-01  25.00  25.9200  20.27  ...     20.27       21.96    8218800.0\n",
              "2010-07-02  23.00  23.1000  18.71  ...     18.71       19.20    5139800.0\n",
              "2010-07-06  20.00  20.0000  15.83  ...     15.83       16.11    6866900.0\n",
              "\n",
              "[5 rows x 12 columns]"
            ]
          },
          "metadata": {
            "tags": []
          },
          "execution_count": 46
        }
      ]
    },
    {
      "cell_type": "code",
      "metadata": {
        "id": "drWsvr5ihX-T",
        "colab_type": "code",
        "colab": {
          "base_uri": "https://localhost:8080/",
          "height": 235
        },
        "outputId": "047c8ee9-e877-4dcd-f305-d6023847d3c6"
      },
      "source": [
        "# Get the adjusted close price\n",
        "df = df[['Adj. Close']]\n",
        "\n",
        "# Look at the new data\n",
        "df.head()"
      ],
      "execution_count": 47,
      "outputs": [
        {
          "output_type": "execute_result",
          "data": {
            "text/html": [
              "<div>\n",
              "<style scoped>\n",
              "    .dataframe tbody tr th:only-of-type {\n",
              "        vertical-align: middle;\n",
              "    }\n",
              "\n",
              "    .dataframe tbody tr th {\n",
              "        vertical-align: top;\n",
              "    }\n",
              "\n",
              "    .dataframe thead th {\n",
              "        text-align: right;\n",
              "    }\n",
              "</style>\n",
              "<table border=\"1\" class=\"dataframe\">\n",
              "  <thead>\n",
              "    <tr style=\"text-align: right;\">\n",
              "      <th></th>\n",
              "      <th>Adj. Close</th>\n",
              "    </tr>\n",
              "    <tr>\n",
              "      <th>Date</th>\n",
              "      <th></th>\n",
              "    </tr>\n",
              "  </thead>\n",
              "  <tbody>\n",
              "    <tr>\n",
              "      <th>2010-06-29</th>\n",
              "      <td>23.89</td>\n",
              "    </tr>\n",
              "    <tr>\n",
              "      <th>2010-06-30</th>\n",
              "      <td>23.83</td>\n",
              "    </tr>\n",
              "    <tr>\n",
              "      <th>2010-07-01</th>\n",
              "      <td>21.96</td>\n",
              "    </tr>\n",
              "    <tr>\n",
              "      <th>2010-07-02</th>\n",
              "      <td>19.20</td>\n",
              "    </tr>\n",
              "    <tr>\n",
              "      <th>2010-07-06</th>\n",
              "      <td>16.11</td>\n",
              "    </tr>\n",
              "  </tbody>\n",
              "</table>\n",
              "</div>"
            ],
            "text/plain": [
              "            Adj. Close\n",
              "Date                  \n",
              "2010-06-29       23.89\n",
              "2010-06-30       23.83\n",
              "2010-07-01       21.96\n",
              "2010-07-02       19.20\n",
              "2010-07-06       16.11"
            ]
          },
          "metadata": {
            "tags": []
          },
          "execution_count": 47
        }
      ]
    },
    {
      "cell_type": "code",
      "metadata": {
        "id": "MgMO7ZbsihiW",
        "colab_type": "code",
        "colab": {
          "base_uri": "https://localhost:8080/",
          "height": 235
        },
        "outputId": "3a62c362-84bf-43c7-fb3c-bde5c363a099"
      },
      "source": [
        "# A variable for predictinging 'n' days out into the future \n",
        "forecast_out = 1 \n",
        "\n",
        "# Create another column (the target or dependent variable) shifted in units up\n",
        "df['Prediction'] = df[['Adj. Close']].shift(-1)\n",
        "# Printing the new dataset\n",
        "df.head()"
      ],
      "execution_count": 48,
      "outputs": [
        {
          "output_type": "execute_result",
          "data": {
            "text/html": [
              "<div>\n",
              "<style scoped>\n",
              "    .dataframe tbody tr th:only-of-type {\n",
              "        vertical-align: middle;\n",
              "    }\n",
              "\n",
              "    .dataframe tbody tr th {\n",
              "        vertical-align: top;\n",
              "    }\n",
              "\n",
              "    .dataframe thead th {\n",
              "        text-align: right;\n",
              "    }\n",
              "</style>\n",
              "<table border=\"1\" class=\"dataframe\">\n",
              "  <thead>\n",
              "    <tr style=\"text-align: right;\">\n",
              "      <th></th>\n",
              "      <th>Adj. Close</th>\n",
              "      <th>Prediction</th>\n",
              "    </tr>\n",
              "    <tr>\n",
              "      <th>Date</th>\n",
              "      <th></th>\n",
              "      <th></th>\n",
              "    </tr>\n",
              "  </thead>\n",
              "  <tbody>\n",
              "    <tr>\n",
              "      <th>2010-06-29</th>\n",
              "      <td>23.89</td>\n",
              "      <td>23.83</td>\n",
              "    </tr>\n",
              "    <tr>\n",
              "      <th>2010-06-30</th>\n",
              "      <td>23.83</td>\n",
              "      <td>21.96</td>\n",
              "    </tr>\n",
              "    <tr>\n",
              "      <th>2010-07-01</th>\n",
              "      <td>21.96</td>\n",
              "      <td>19.20</td>\n",
              "    </tr>\n",
              "    <tr>\n",
              "      <th>2010-07-02</th>\n",
              "      <td>19.20</td>\n",
              "      <td>16.11</td>\n",
              "    </tr>\n",
              "    <tr>\n",
              "      <th>2010-07-06</th>\n",
              "      <td>16.11</td>\n",
              "      <td>15.80</td>\n",
              "    </tr>\n",
              "  </tbody>\n",
              "</table>\n",
              "</div>"
            ],
            "text/plain": [
              "            Adj. Close  Prediction\n",
              "Date                              \n",
              "2010-06-29       23.89       23.83\n",
              "2010-06-30       23.83       21.96\n",
              "2010-07-01       21.96       19.20\n",
              "2010-07-02       19.20       16.11\n",
              "2010-07-06       16.11       15.80"
            ]
          },
          "metadata": {
            "tags": []
          },
          "execution_count": 48
        }
      ]
    },
    {
      "cell_type": "code",
      "metadata": {
        "id": "rLASOS6Wjh3V",
        "colab_type": "code",
        "colab": {
          "base_uri": "https://localhost:8080/",
          "height": 136
        },
        "outputId": "92e94799-393f-4b2d-9466-f4eac9476875"
      },
      "source": [
        "# A variable for predicting 'n' days out into the future\n",
        "forecast_out = 1\n",
        "# Create another column (the target or dependent variable) shifted 'n' units up\n",
        "df['Prediction'] = df[['Adj. Close']].shift(-forecast_out)\n",
        "# Print the new dataset\n",
        "print(df.tail())"
      ],
      "execution_count": 49,
      "outputs": [
        {
          "output_type": "stream",
          "text": [
            "            Adj. Close  Prediction\n",
            "Date                              \n",
            "2018-03-21      316.53      309.10\n",
            "2018-03-22      309.10      301.54\n",
            "2018-03-23      301.54      304.18\n",
            "2018-03-26      304.18      279.18\n",
            "2018-03-27      279.18         NaN\n"
          ],
          "name": "stdout"
        }
      ]
    },
    {
      "cell_type": "code",
      "metadata": {
        "id": "SeYqUN26kjSX",
        "colab_type": "code",
        "colab": {
          "base_uri": "https://localhost:8080/",
          "height": 136
        },
        "outputId": "7329bd4e-d755-4be5-d516-6b773d715059"
      },
      "source": [
        "### Create the independent data set (x) ###\n",
        "# Convert the dataframe to a numpy array\n",
        "x = np.array(df.drop(['Prediction'],1))\n",
        "# Remove the last 'n' rows\n",
        "x = x[:-forecast_out]\n",
        "print(x)"
      ],
      "execution_count": 50,
      "outputs": [
        {
          "output_type": "stream",
          "text": [
            "[[ 23.89]\n",
            " [ 23.83]\n",
            " [ 21.96]\n",
            " ...\n",
            " [309.1 ]\n",
            " [301.54]\n",
            " [304.18]]\n"
          ],
          "name": "stdout"
        }
      ]
    },
    {
      "cell_type": "code",
      "metadata": {
        "id": "aMme63tHlo5M",
        "colab_type": "code",
        "colab": {
          "base_uri": "https://localhost:8080/",
          "height": 34
        },
        "outputId": "e7c92573-7f18-4a9b-b192-af006a392c24"
      },
      "source": [
        "### Create the dependent data set (y) ###\n",
        "# Convert the datafram to a numpy array\n",
        "y = np.array(df['Prediction'])\n",
        "# Get all of the y values except the last 'n' rows\n",
        "y = y[:-forecast_out]\n",
        "print(y)"
      ],
      "execution_count": 51,
      "outputs": [
        {
          "output_type": "stream",
          "text": [
            "[ 23.83  21.96  19.2  ... 301.54 304.18 279.18]\n"
          ],
          "name": "stdout"
        }
      ]
    },
    {
      "cell_type": "code",
      "metadata": {
        "id": "b6YMqm_gnNO1",
        "colab_type": "code",
        "colab": {}
      },
      "source": [
        "# Split the data into 80% training and 20% testing\n",
        "x_train, x_test, y_train, y_test = train_test_split(x, y, test_size = 0.2)"
      ],
      "execution_count": 52,
      "outputs": []
    },
    {
      "cell_type": "code",
      "metadata": {
        "id": "WqScSEnpnty7",
        "colab_type": "code",
        "colab": {
          "base_uri": "https://localhost:8080/",
          "height": 51
        },
        "outputId": "1573af26-aaf5-4938-91ee-ce174448074f"
      },
      "source": [
        "# Create and train the Support Vector Machine (Regressor)\n",
        "svr_rbf = SVR(kernel='rbf', C=1e3, gamma=0.1)\n",
        "svr_rbf.fit(x_train, y_train)"
      ],
      "execution_count": 53,
      "outputs": [
        {
          "output_type": "execute_result",
          "data": {
            "text/plain": [
              "SVR(C=1000.0, cache_size=200, coef0=0.0, degree=3, epsilon=0.1, gamma=0.1,\n",
              "    kernel='rbf', max_iter=-1, shrinking=True, tol=0.001, verbose=False)"
            ]
          },
          "metadata": {
            "tags": []
          },
          "execution_count": 53
        }
      ]
    },
    {
      "cell_type": "code",
      "metadata": {
        "id": "JJ1h1dj7ogtN",
        "colab_type": "code",
        "colab": {
          "base_uri": "https://localhost:8080/",
          "height": 34
        },
        "outputId": "a5e310cc-78a0-41eb-fda9-ebd90d96c03c"
      },
      "source": [
        "# Testing Model: Score returns the coefficient of determination R^2 of the \n",
        "# prediction. The best possible score is 1.0\n",
        "svm_confidence = svr_rbf.score(x_test, y_test)\n",
        "print(\"svm confidence: \", svm_confidence)"
      ],
      "execution_count": 54,
      "outputs": [
        {
          "output_type": "stream",
          "text": [
            "svm confidence:  0.9927918574840524\n"
          ],
          "name": "stdout"
        }
      ]
    },
    {
      "cell_type": "code",
      "metadata": {
        "id": "K021xApWpEma",
        "colab_type": "code",
        "colab": {
          "base_uri": "https://localhost:8080/",
          "height": 34
        },
        "outputId": "7a0d8649-9ccb-4ee0-e81f-1af89e7ecc9f"
      },
      "source": [
        "# Create and train the Linear Regression Model\n",
        "lr = LinearRegression()\n",
        "# Train the model\n",
        "lr.fit(x_train, y_train)"
      ],
      "execution_count": 55,
      "outputs": [
        {
          "output_type": "execute_result",
          "data": {
            "text/plain": [
              "LinearRegression(copy_X=True, fit_intercept=True, n_jobs=None, normalize=False)"
            ]
          },
          "metadata": {
            "tags": []
          },
          "execution_count": 55
        }
      ]
    },
    {
      "cell_type": "code",
      "metadata": {
        "id": "muY0ErP4pXBr",
        "colab_type": "code",
        "colab": {
          "base_uri": "https://localhost:8080/",
          "height": 34
        },
        "outputId": "bbfaf1bc-590c-4e46-c0dd-719344c7968e"
      },
      "source": [
        "# Testing Model: Score returns the coefficient of determination R^2 of the \n",
        "# prediction. The best possible score is 1.0\n",
        "lr_confidence = lr.score(x_test, y_test)\n",
        "print(\"lr confidence: \", lr_confidence)"
      ],
      "execution_count": 56,
      "outputs": [
        {
          "output_type": "stream",
          "text": [
            "lr confidence:  0.9976131288508342\n"
          ],
          "name": "stdout"
        }
      ]
    },
    {
      "cell_type": "code",
      "metadata": {
        "id": "-9NcTFsDtw8e",
        "colab_type": "code",
        "colab": {
          "base_uri": "https://localhost:8080/",
          "height": 34
        },
        "outputId": "8d1b7d25-823e-48b4-ebc7-7558fe84226e"
      },
      "source": [
        "# Set the x_forecast equal to the last 30 rows of the original data set from Adj.\n",
        "# Close column\n",
        "x_forecast = np.array(df.drop(['Prediction'],1))[-forecast_out:]\n",
        "print(x_forecast)"
      ],
      "execution_count": 57,
      "outputs": [
        {
          "output_type": "stream",
          "text": [
            "[[279.18]]\n"
          ],
          "name": "stdout"
        }
      ]
    },
    {
      "cell_type": "code",
      "metadata": {
        "id": "Y0IEm1acur9f",
        "colab_type": "code",
        "colab": {
          "base_uri": "https://localhost:8080/",
          "height": 34
        },
        "outputId": "a8de56fc-fbcf-49f6-b3c9-dd62111989f6"
      },
      "source": [
        "# Print the predictions for the next 'n' days\n",
        "lr_prediction = lr.predict(x_forecast)\n",
        "print(lr_prediction)"
      ],
      "execution_count": 58,
      "outputs": [
        {
          "output_type": "stream",
          "text": [
            "[279.50271613]\n"
          ],
          "name": "stdout"
        }
      ]
    },
    {
      "cell_type": "code",
      "metadata": {
        "id": "9Gsa2P1VvsHl",
        "colab_type": "code",
        "colab": {
          "base_uri": "https://localhost:8080/",
          "height": 34
        },
        "outputId": "24679522-3ae6-405b-c91a-b14c4ef962ea"
      },
      "source": [
        "# Print the support vector regressor model \n",
        "svm_prediction = svr_rbf.predict(x_forecast)\n",
        "print(svm_prediction)"
      ],
      "execution_count": 59,
      "outputs": [
        {
          "output_type": "stream",
          "text": [
            "[280.54813752]\n"
          ],
          "name": "stdout"
        }
      ]
    }
  ]
}